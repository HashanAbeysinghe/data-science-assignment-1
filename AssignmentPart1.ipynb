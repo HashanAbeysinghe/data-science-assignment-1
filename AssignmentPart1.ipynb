{
 "cells": [
  {
   "cell_type": "markdown",
   "metadata": {},
   "source": [
    "# <span style=\"color:#0b486b\">Visualization</span>\n",
    "\n",
    "---\n",
    "\n",
    "---"
   ]
  },
  {
   "cell_type": "markdown",
   "metadata": {},
   "source": [
    "Importing the required packages. We will work with `matplotlib` package to viualialize\n"
   ]
  },
  {
   "cell_type": "code",
   "execution_count": 13,
   "metadata": {},
   "outputs": [],
   "source": [
    "import numpy as np\n",
    "import csv\n",
    "import pandas as pd\n",
    "import matplotlib.pyplot as plt\n",
    "%matplotlib inline"
   ]
  },
  {
   "cell_type": "markdown",
   "metadata": {},
   "source": [
    "Import data from vsc file. Show the summary of data."
   ]
  },
  {
   "cell_type": "code",
   "execution_count": 14,
   "metadata": {
    "scrolled": true
   },
   "outputs": [
    {
     "data": {
      "text/html": [
       "<div>\n",
       "<style scoped>\n",
       "    .dataframe tbody tr th:only-of-type {\n",
       "        vertical-align: middle;\n",
       "    }\n",
       "\n",
       "    .dataframe tbody tr th {\n",
       "        vertical-align: top;\n",
       "    }\n",
       "\n",
       "    .dataframe thead th {\n",
       "        text-align: right;\n",
       "    }\n",
       "</style>\n",
       "<table border=\"1\" class=\"dataframe\">\n",
       "  <thead>\n",
       "    <tr style=\"text-align: right;\">\n",
       "      <th></th>\n",
       "      <th>Seq No</th>\n",
       "      <th>intnum</th>\n",
       "      <th>persnum</th>\n",
       "      <th>age</th>\n",
       "      <th>educatn</th>\n",
       "      <th>earnings</th>\n",
       "      <th>hours</th>\n",
       "      <th>kids</th>\n",
       "    </tr>\n",
       "  </thead>\n",
       "  <tbody>\n",
       "    <tr>\n",
       "      <th>count</th>\n",
       "      <td>4856.000000</td>\n",
       "      <td>4856.000000</td>\n",
       "      <td>4856.000000</td>\n",
       "      <td>4856.000000</td>\n",
       "      <td>4855.000000</td>\n",
       "      <td>4856.000000</td>\n",
       "      <td>4856.000000</td>\n",
       "      <td>4856.000000</td>\n",
       "    </tr>\n",
       "    <tr>\n",
       "      <th>mean</th>\n",
       "      <td>2428.500000</td>\n",
       "      <td>4598.101318</td>\n",
       "      <td>59.213550</td>\n",
       "      <td>38.462932</td>\n",
       "      <td>16.377137</td>\n",
       "      <td>14244.506178</td>\n",
       "      <td>1235.334843</td>\n",
       "      <td>4.481260</td>\n",
       "    </tr>\n",
       "    <tr>\n",
       "      <th>std</th>\n",
       "      <td>1401.950784</td>\n",
       "      <td>2761.971174</td>\n",
       "      <td>79.748556</td>\n",
       "      <td>5.595116</td>\n",
       "      <td>18.449502</td>\n",
       "      <td>15985.447449</td>\n",
       "      <td>947.175837</td>\n",
       "      <td>14.887856</td>\n",
       "    </tr>\n",
       "    <tr>\n",
       "      <th>min</th>\n",
       "      <td>1.000000</td>\n",
       "      <td>4.000000</td>\n",
       "      <td>1.000000</td>\n",
       "      <td>30.000000</td>\n",
       "      <td>0.000000</td>\n",
       "      <td>0.000000</td>\n",
       "      <td>0.000000</td>\n",
       "      <td>0.000000</td>\n",
       "    </tr>\n",
       "    <tr>\n",
       "      <th>25%</th>\n",
       "      <td>1214.750000</td>\n",
       "      <td>1905.000000</td>\n",
       "      <td>2.000000</td>\n",
       "      <td>34.000000</td>\n",
       "      <td>12.000000</td>\n",
       "      <td>85.000000</td>\n",
       "      <td>32.000000</td>\n",
       "      <td>1.000000</td>\n",
       "    </tr>\n",
       "    <tr>\n",
       "      <th>50%</th>\n",
       "      <td>2428.500000</td>\n",
       "      <td>5464.000000</td>\n",
       "      <td>4.000000</td>\n",
       "      <td>38.000000</td>\n",
       "      <td>12.000000</td>\n",
       "      <td>11000.000000</td>\n",
       "      <td>1517.000000</td>\n",
       "      <td>2.000000</td>\n",
       "    </tr>\n",
       "    <tr>\n",
       "      <th>75%</th>\n",
       "      <td>3642.250000</td>\n",
       "      <td>6655.000000</td>\n",
       "      <td>170.000000</td>\n",
       "      <td>43.000000</td>\n",
       "      <td>14.000000</td>\n",
       "      <td>22000.000000</td>\n",
       "      <td>2000.000000</td>\n",
       "      <td>3.000000</td>\n",
       "    </tr>\n",
       "    <tr>\n",
       "      <th>max</th>\n",
       "      <td>4856.000000</td>\n",
       "      <td>9306.000000</td>\n",
       "      <td>205.000000</td>\n",
       "      <td>50.000000</td>\n",
       "      <td>99.000000</td>\n",
       "      <td>240000.000000</td>\n",
       "      <td>5160.000000</td>\n",
       "      <td>99.000000</td>\n",
       "    </tr>\n",
       "  </tbody>\n",
       "</table>\n",
       "</div>"
      ],
      "text/plain": [
       "            Seq No       intnum      persnum          age      educatn  \\\n",
       "count  4856.000000  4856.000000  4856.000000  4856.000000  4855.000000   \n",
       "mean   2428.500000  4598.101318    59.213550    38.462932    16.377137   \n",
       "std    1401.950784  2761.971174    79.748556     5.595116    18.449502   \n",
       "min       1.000000     4.000000     1.000000    30.000000     0.000000   \n",
       "25%    1214.750000  1905.000000     2.000000    34.000000    12.000000   \n",
       "50%    2428.500000  5464.000000     4.000000    38.000000    12.000000   \n",
       "75%    3642.250000  6655.000000   170.000000    43.000000    14.000000   \n",
       "max    4856.000000  9306.000000   205.000000    50.000000    99.000000   \n",
       "\n",
       "            earnings        hours         kids  \n",
       "count    4856.000000  4856.000000  4856.000000  \n",
       "mean    14244.506178  1235.334843     4.481260  \n",
       "std     15985.447449   947.175837    14.887856  \n",
       "min         0.000000     0.000000     0.000000  \n",
       "25%        85.000000    32.000000     1.000000  \n",
       "50%     11000.000000  1517.000000     2.000000  \n",
       "75%     22000.000000  2000.000000     3.000000  \n",
       "max    240000.000000  5160.000000    99.000000  "
      ]
     },
     "execution_count": 14,
     "metadata": {},
     "output_type": "execute_result"
    }
   ],
   "source": [
    "data = pd.read_csv('PSID.csv')\n",
    "#make married colom categorical\n",
    "data['married'] = pd.Categorical(data['married'])\n",
    "#print(data.head())\n",
    "#print(data.dtypes)\n",
    "data.describe()"
   ]
  },
  {
   "cell_type": "markdown",
   "metadata": {},
   "source": [
    "## <span style=\"color:#0b486b\">1. Boxplot </span>\n",
    "\n",
    "Draw boxplot diagrams to get initial insights on data"
   ]
  },
  {
   "cell_type": "markdown",
   "metadata": {},
   "source": [
    "Draw boxplot for Kids"
   ]
  },
  {
   "cell_type": "code",
   "execution_count": 15,
   "metadata": {},
   "outputs": [
    {
     "data": {
      "text/plain": [
       "<Figure size 14400x7200 with 0 Axes>"
      ]
     },
     "metadata": {},
     "output_type": "display_data"
    },
    {
     "data": {
      "image/png": "[encoded data removed]",
      "text/plain": [
       "<Figure size 432x288 with 1 Axes>"
      ]
     },
     "metadata": {
      "needs_background": "light"
     },
     "output_type": "display_data"
    }
   ],
   "source": [
    "plt.figure(figsize=(200,100))\n",
    "data.plot.box(y='kids')\n",
    "plt.show()"
   ]
  },
  {
   "cell_type": "markdown",
   "metadata": {},
   "source": [
    "Draw boxplot for Education level"
   ]
  },
  {
   "cell_type": "code",
   "execution_count": 16,
   "metadata": {},
   "outputs": [
    {
     "data": {
      "text/plain": [
       "<Figure size 14400x7200 with 0 Axes>"
      ]
     },
     "metadata": {},
     "output_type": "display_data"
    },
    {
     "data": {
      "image/png": "[encoded data removed]",
      "text/plain": [
       "<Figure size 432x288 with 1 Axes>"
      ]
     },
     "metadata": {
      "needs_background": "light"
     },
     "output_type": "display_data"
    }
   ],
   "source": [
    "plt.figure(figsize=(200,100))\n",
    "data.plot.box(y='educatn')\n",
    "plt.show()"
   ]
  },
  {
   "cell_type": "markdown",
   "metadata": {},
   "source": [
    "Draw boxplot for Education level"
   ]
  },
  {
   "cell_type": "code",
   "execution_count": 17,
   "metadata": {
    "scrolled": true
   },
   "outputs": [
    {
     "data": {
      "text/plain": [
       "<Figure size 14400x7200 with 0 Axes>"
      ]
     },
     "metadata": {},
     "output_type": "display_data"
    },
    {
     "data": {
      "image/png": "[encoded data removed]",
      "text/plain": [
       "<Figure size 432x288 with 1 Axes>"
      ]
     },
     "metadata": {
      "needs_background": "light"
     },
     "output_type": "display_data"
    }
   ],
   "source": [
    "plt.figure(figsize=(200,100))\n",
    "data.plot.box(y='earnings')\n",
    "plt.show()"
   ]
  },
  {
   "cell_type": "markdown",
   "metadata": {},
   "source": [
    "---\n",
    "## <span style=\"color:#0b486b\">Remove Outliers</span>\n",
    "\n",
    "Remove outliers based on boxplot diagrams"
   ]
  },
  {
   "cell_type": "code",
   "execution_count": 18,
   "metadata": {},
   "outputs": [
    {
     "data": {
      "text/plain": [
       "<Figure size 14400x7200 with 0 Axes>"
      ]
     },
     "metadata": {},
     "output_type": "display_data"
    },
    {
     "data": {
      "image/png": "[encoded data removed]",
      "text/plain": [
       "<Figure size 432x288 with 1 Axes>"
      ]
     },
     "metadata": {
      "needs_background": "light"
     },
     "output_type": "display_data"
    }
   ],
   "source": [
    "CleanedData = data[data.kids < 15]\n",
    "CleanedData = CleanedData[CleanedData.educatn < 30]\n",
    "CleanedData = CleanedData[CleanedData.educatn >= 10]\n",
    "plt.figure(figsize=(200,100))\n",
    "CleanedData.plot.box(y='educatn')\n",
    "plt.show()\n",
    "CleanedData.describe()\n",
    "\n",
    "CleanedData.to_csv('CleanedData.csv')"
   ]
  },
  {
   "cell_type": "markdown",
   "metadata": {},
   "source": [
    "---\n",
    "## <span style=\"color:#0b486b\">Correlation </span>\n",
    "\n",
    "Correalation between columns\n",
    "\n",
    "We can see 0.611034 realtionship between worked hours and earnings\n",
    "We can see 0.364995 realtionship between education and earnings\n"
   ]
  },
  {
   "cell_type": "code",
   "execution_count": 19,
   "metadata": {},
   "outputs": [
    {
     "data": {
      "text/html": [
       "<div>\n",
       "<style scoped>\n",
       "    .dataframe tbody tr th:only-of-type {\n",
       "        vertical-align: middle;\n",
       "    }\n",
       "\n",
       "    .dataframe tbody tr th {\n",
       "        vertical-align: top;\n",
       "    }\n",
       "\n",
       "    .dataframe thead th {\n",
       "        text-align: right;\n",
       "    }\n",
       "</style>\n",
       "<table border=\"1\" class=\"dataframe\">\n",
       "  <thead>\n",
       "    <tr style=\"text-align: right;\">\n",
       "      <th></th>\n",
       "      <th>Unnamed: 0</th>\n",
       "      <th>Seq No</th>\n",
       "      <th>intnum</th>\n",
       "      <th>persnum</th>\n",
       "      <th>age</th>\n",
       "      <th>educatn</th>\n",
       "      <th>earnings</th>\n",
       "      <th>hours</th>\n",
       "      <th>kids</th>\n",
       "    </tr>\n",
       "  </thead>\n",
       "  <tbody>\n",
       "    <tr>\n",
       "      <th>Unnamed: 0</th>\n",
       "      <td>1.000000</td>\n",
       "      <td>1.000000</td>\n",
       "      <td>0.982993</td>\n",
       "      <td>-0.247615</td>\n",
       "      <td>-0.044440</td>\n",
       "      <td>-0.191249</td>\n",
       "      <td>-0.136180</td>\n",
       "      <td>-0.068794</td>\n",
       "      <td>0.086735</td>\n",
       "    </tr>\n",
       "    <tr>\n",
       "      <th>Seq No</th>\n",
       "      <td>1.000000</td>\n",
       "      <td>1.000000</td>\n",
       "      <td>0.982993</td>\n",
       "      <td>-0.247615</td>\n",
       "      <td>-0.044440</td>\n",
       "      <td>-0.191249</td>\n",
       "      <td>-0.136180</td>\n",
       "      <td>-0.068794</td>\n",
       "      <td>0.086735</td>\n",
       "    </tr>\n",
       "    <tr>\n",
       "      <th>intnum</th>\n",
       "      <td>0.982993</td>\n",
       "      <td>0.982993</td>\n",
       "      <td>1.000000</td>\n",
       "      <td>-0.245670</td>\n",
       "      <td>-0.056530</td>\n",
       "      <td>-0.203563</td>\n",
       "      <td>-0.139795</td>\n",
       "      <td>-0.069258</td>\n",
       "      <td>0.091350</td>\n",
       "    </tr>\n",
       "    <tr>\n",
       "      <th>persnum</th>\n",
       "      <td>-0.247615</td>\n",
       "      <td>-0.247615</td>\n",
       "      <td>-0.245670</td>\n",
       "      <td>1.000000</td>\n",
       "      <td>-0.073616</td>\n",
       "      <td>0.100913</td>\n",
       "      <td>0.033118</td>\n",
       "      <td>0.020164</td>\n",
       "      <td>-0.040637</td>\n",
       "    </tr>\n",
       "    <tr>\n",
       "      <th>age</th>\n",
       "      <td>-0.044440</td>\n",
       "      <td>-0.044440</td>\n",
       "      <td>-0.056530</td>\n",
       "      <td>-0.073616</td>\n",
       "      <td>1.000000</td>\n",
       "      <td>0.034053</td>\n",
       "      <td>0.113953</td>\n",
       "      <td>0.080526</td>\n",
       "      <td>0.132700</td>\n",
       "    </tr>\n",
       "    <tr>\n",
       "      <th>educatn</th>\n",
       "      <td>-0.191249</td>\n",
       "      <td>-0.191249</td>\n",
       "      <td>-0.203563</td>\n",
       "      <td>0.100913</td>\n",
       "      <td>0.034053</td>\n",
       "      <td>1.000000</td>\n",
       "      <td>0.364995</td>\n",
       "      <td>0.114666</td>\n",
       "      <td>-0.218916</td>\n",
       "    </tr>\n",
       "    <tr>\n",
       "      <th>earnings</th>\n",
       "      <td>-0.136180</td>\n",
       "      <td>-0.136180</td>\n",
       "      <td>-0.139795</td>\n",
       "      <td>0.033118</td>\n",
       "      <td>0.113953</td>\n",
       "      <td>0.364995</td>\n",
       "      <td>1.000000</td>\n",
       "      <td>0.611034</td>\n",
       "      <td>-0.233729</td>\n",
       "    </tr>\n",
       "    <tr>\n",
       "      <th>hours</th>\n",
       "      <td>-0.068794</td>\n",
       "      <td>-0.068794</td>\n",
       "      <td>-0.069258</td>\n",
       "      <td>0.020164</td>\n",
       "      <td>0.080526</td>\n",
       "      <td>0.114666</td>\n",
       "      <td>0.611034</td>\n",
       "      <td>1.000000</td>\n",
       "      <td>-0.172628</td>\n",
       "    </tr>\n",
       "    <tr>\n",
       "      <th>kids</th>\n",
       "      <td>0.086735</td>\n",
       "      <td>0.086735</td>\n",
       "      <td>0.091350</td>\n",
       "      <td>-0.040637</td>\n",
       "      <td>0.132700</td>\n",
       "      <td>-0.218916</td>\n",
       "      <td>-0.233729</td>\n",
       "      <td>-0.172628</td>\n",
       "      <td>1.000000</td>\n",
       "    </tr>\n",
       "  </tbody>\n",
       "</table>\n",
       "</div>"
      ],
      "text/plain": [
       "            Unnamed: 0    Seq No    intnum   persnum       age   educatn  \\\n",
       "Unnamed: 0    1.000000  1.000000  0.982993 -0.247615 -0.044440 -0.191249   \n",
       "Seq No        1.000000  1.000000  0.982993 -0.247615 -0.044440 -0.191249   \n",
       "intnum        0.982993  0.982993  1.000000 -0.245670 -0.056530 -0.203563   \n",
       "persnum      -0.247615 -0.247615 -0.245670  1.000000 -0.073616  0.100913   \n",
       "age          -0.044440 -0.044440 -0.056530 -0.073616  1.000000  0.034053   \n",
       "educatn      -0.191249 -0.191249 -0.203563  0.100913  0.034053  1.000000   \n",
       "earnings     -0.136180 -0.136180 -0.139795  0.033118  0.113953  0.364995   \n",
       "hours        -0.068794 -0.068794 -0.069258  0.020164  0.080526  0.114666   \n",
       "kids          0.086735  0.086735  0.091350 -0.040637  0.132700 -0.218916   \n",
       "\n",
       "            earnings     hours      kids  \n",
       "Unnamed: 0 -0.136180 -0.068794  0.086735  \n",
       "Seq No     -0.136180 -0.068794  0.086735  \n",
       "intnum     -0.139795 -0.069258  0.091350  \n",
       "persnum     0.033118  0.020164 -0.040637  \n",
       "age         0.113953  0.080526  0.132700  \n",
       "educatn     0.364995  0.114666 -0.218916  \n",
       "earnings    1.000000  0.611034 -0.233729  \n",
       "hours       0.611034  1.000000 -0.172628  \n",
       "kids       -0.233729 -0.172628  1.000000  "
      ]
     },
     "execution_count": 19,
     "metadata": {},
     "output_type": "execute_result"
    }
   ],
   "source": [
    "data = pd.read_csv('CleanedData.csv')\n",
    "data.corr(method ='pearson') "
   ]
  },
  {
   "cell_type": "markdown",
   "metadata": {},
   "source": [
    "---\n",
    "## <span style=\"color:#0b486b\">Hypothesis 1</span>\n",
    "\n",
    "<strong>Eduation has an positive impact on a persons earnings.</strong>\n",
    "\n",
    "If correlation is c\n",
    "\n",
    "<ul>\n",
    "    <li>H0 : c = 0</li>\n",
    "    <li>Ha : c > 0</li>\n",
    "</ul>\n",
    "\n",
    "\n",
    "\n",
    "from above correlation table, c between education and earnings is 0.364995 (c > 0)\n",
    "\n",
    "therefore, <strong>statistics support for alternative hypothesis with suffiecnt statistical significance.</strong>\n",
    "\n",
    "Let's see the scatter plot for above realtionship\n",
    "\n",
    "\n"
   ]
  },
  {
   "cell_type": "code",
   "execution_count": 20,
   "metadata": {},
   "outputs": [
    {
     "data": {
      "text/plain": [
       "<Figure size 14400x7200 with 0 Axes>"
      ]
     },
     "metadata": {},
     "output_type": "display_data"
    },
    {
     "data": {
      "image/png": "[encoded data removed]",
      "text/plain": [
       "<Figure size 432x288 with 1 Axes>"
      ]
     },
     "metadata": {
      "needs_background": "light"
     },
     "output_type": "display_data"
    }
   ],
   "source": [
    "data = pd.read_csv('CleanedData.csv')\n",
    "data.corr(method ='pearson') \n",
    "plt.figure(figsize=(200,100))\n",
    "data.plot.scatter(x='educatn', y='earnings')\n",
    "plt.show()"
   ]
  },
  {
   "cell_type": "code",
   "execution_count": null,
   "metadata": {},
   "outputs": [],
   "source": []
  }
 ],
 "metadata": {
  "kernelspec": {
   "display_name": "Python 3",
   "language": "python",
   "name": "python3"
  },
  "language_info": {
   "codemirror_mode": {
    "name": "ipython",
    "version": 3
   },
   "file_extension": ".py",
   "mimetype": "text/x-python",
   "name": "python",
   "nbconvert_exporter": "python",
   "pygments_lexer": "ipython3",
   "version": "3.7.1"
  }
 },
 "nbformat": 4,
 "nbformat_minor": 1
}
