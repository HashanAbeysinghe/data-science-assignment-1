{
 "cells": [
  {
   "cell_type": "markdown",
   "metadata": {},
   "source": [
    "# <span style=\"color:#0b486b\">Visualization</span>\n",
    "\n",
    "---\n",
    "\n",
    "---"
   ]
  },
  {
   "cell_type": "markdown",
   "metadata": {},
   "source": [
    "Importing the required packages. We will work with `matplotlib` package to viualialize\n"
   ]
  },
  {
   "cell_type": "code",
   "execution_count": 23,
   "metadata": {},
   "outputs": [],
   "source": [
    "import numpy as np\n",
    "import csv\n",
    "import pandas as pd\n",
    "import matplotlib.pyplot as plt\n",
    "import seaborn as sns\n",
    "%matplotlib inline"
   ]
  },
  {
   "cell_type": "markdown",
   "metadata": {},
   "source": [
    "Import data from vsc file. Show the summary of data."
   ]
  },
  {
   "cell_type": "code",
   "execution_count": 24,
   "metadata": {
    "scrolled": true
   },
   "outputs": [
    {
     "data": {
      "text/html": [
       "<div>\n",
       "<style scoped>\n",
       "    .dataframe tbody tr th:only-of-type {\n",
       "        vertical-align: middle;\n",
       "    }\n",
       "\n",
       "    .dataframe tbody tr th {\n",
       "        vertical-align: top;\n",
       "    }\n",
       "\n",
       "    .dataframe thead th {\n",
       "        text-align: right;\n",
       "    }\n",
       "</style>\n",
       "<table border=\"1\" class=\"dataframe\">\n",
       "  <thead>\n",
       "    <tr style=\"text-align: right;\">\n",
       "      <th></th>\n",
       "      <th>Seq No</th>\n",
       "      <th>intnum</th>\n",
       "      <th>persnum</th>\n",
       "      <th>age</th>\n",
       "      <th>educatn</th>\n",
       "      <th>earnings</th>\n",
       "      <th>hours</th>\n",
       "      <th>kids</th>\n",
       "    </tr>\n",
       "  </thead>\n",
       "  <tbody>\n",
       "    <tr>\n",
       "      <th>count</th>\n",
       "      <td>4856.000000</td>\n",
       "      <td>4856.000000</td>\n",
       "      <td>4856.000000</td>\n",
       "      <td>4856.000000</td>\n",
       "      <td>4855.000000</td>\n",
       "      <td>4856.000000</td>\n",
       "      <td>4856.000000</td>\n",
       "      <td>4856.000000</td>\n",
       "    </tr>\n",
       "    <tr>\n",
       "      <th>mean</th>\n",
       "      <td>2428.500000</td>\n",
       "      <td>4598.101318</td>\n",
       "      <td>59.213550</td>\n",
       "      <td>38.462932</td>\n",
       "      <td>16.377137</td>\n",
       "      <td>14244.506178</td>\n",
       "      <td>1235.334843</td>\n",
       "      <td>4.481260</td>\n",
       "    </tr>\n",
       "    <tr>\n",
       "      <th>std</th>\n",
       "      <td>1401.950784</td>\n",
       "      <td>2761.971174</td>\n",
       "      <td>79.748556</td>\n",
       "      <td>5.595116</td>\n",
       "      <td>18.449502</td>\n",
       "      <td>15985.447449</td>\n",
       "      <td>947.175837</td>\n",
       "      <td>14.887856</td>\n",
       "    </tr>\n",
       "    <tr>\n",
       "      <th>min</th>\n",
       "      <td>1.000000</td>\n",
       "      <td>4.000000</td>\n",
       "      <td>1.000000</td>\n",
       "      <td>30.000000</td>\n",
       "      <td>0.000000</td>\n",
       "      <td>0.000000</td>\n",
       "      <td>0.000000</td>\n",
       "      <td>0.000000</td>\n",
       "    </tr>\n",
       "    <tr>\n",
       "      <th>25%</th>\n",
       "      <td>1214.750000</td>\n",
       "      <td>1905.000000</td>\n",
       "      <td>2.000000</td>\n",
       "      <td>34.000000</td>\n",
       "      <td>12.000000</td>\n",
       "      <td>85.000000</td>\n",
       "      <td>32.000000</td>\n",
       "      <td>1.000000</td>\n",
       "    </tr>\n",
       "    <tr>\n",
       "      <th>50%</th>\n",
       "      <td>2428.500000</td>\n",
       "      <td>5464.000000</td>\n",
       "      <td>4.000000</td>\n",
       "      <td>38.000000</td>\n",
       "      <td>12.000000</td>\n",
       "      <td>11000.000000</td>\n",
       "      <td>1517.000000</td>\n",
       "      <td>2.000000</td>\n",
       "    </tr>\n",
       "    <tr>\n",
       "      <th>75%</th>\n",
       "      <td>3642.250000</td>\n",
       "      <td>6655.000000</td>\n",
       "      <td>170.000000</td>\n",
       "      <td>43.000000</td>\n",
       "      <td>14.000000</td>\n",
       "      <td>22000.000000</td>\n",
       "      <td>2000.000000</td>\n",
       "      <td>3.000000</td>\n",
       "    </tr>\n",
       "    <tr>\n",
       "      <th>max</th>\n",
       "      <td>4856.000000</td>\n",
       "      <td>9306.000000</td>\n",
       "      <td>205.000000</td>\n",
       "      <td>50.000000</td>\n",
       "      <td>99.000000</td>\n",
       "      <td>240000.000000</td>\n",
       "      <td>5160.000000</td>\n",
       "      <td>99.000000</td>\n",
       "    </tr>\n",
       "  </tbody>\n",
       "</table>\n",
       "</div>"
      ],
      "text/plain": [
       "            Seq No       intnum      persnum          age      educatn  \\\n",
       "count  4856.000000  4856.000000  4856.000000  4856.000000  4855.000000   \n",
       "mean   2428.500000  4598.101318    59.213550    38.462932    16.377137   \n",
       "std    1401.950784  2761.971174    79.748556     5.595116    18.449502   \n",
       "min       1.000000     4.000000     1.000000    30.000000     0.000000   \n",
       "25%    1214.750000  1905.000000     2.000000    34.000000    12.000000   \n",
       "50%    2428.500000  5464.000000     4.000000    38.000000    12.000000   \n",
       "75%    3642.250000  6655.000000   170.000000    43.000000    14.000000   \n",
       "max    4856.000000  9306.000000   205.000000    50.000000    99.000000   \n",
       "\n",
       "            earnings        hours         kids  \n",
       "count    4856.000000  4856.000000  4856.000000  \n",
       "mean    14244.506178  1235.334843     4.481260  \n",
       "std     15985.447449   947.175837    14.887856  \n",
       "min         0.000000     0.000000     0.000000  \n",
       "25%        85.000000    32.000000     1.000000  \n",
       "50%     11000.000000  1517.000000     2.000000  \n",
       "75%     22000.000000  2000.000000     3.000000  \n",
       "max    240000.000000  5160.000000    99.000000  "
      ]
     },
     "execution_count": 24,
     "metadata": {},
     "output_type": "execute_result"
    }
   ],
   "source": [
    "data = pd.read_csv('PSID.csv')\n",
    "#make married colom categorical\n",
    "data['married'] = pd.Categorical(data['married'])\n",
    "#print(data.head())\n",
    "#print(data.dtypes)\n",
    "data.describe()"
   ]
  },
  {
   "cell_type": "markdown",
   "metadata": {},
   "source": [
    "## <span style=\"color:#0b486b\">1. Boxplot </span>\n",
    "\n",
    "Draw boxplot diagrams to get initial insights on data"
   ]
  },
  {
   "cell_type": "markdown",
   "metadata": {},
   "source": [
    "Draw boxplot for Kids"
   ]
  },
  {
   "cell_type": "code",
   "execution_count": 25,
   "metadata": {},
   "outputs": [
    {
     "data": {
      "text/plain": [
       "<Figure size 14400x7200 with 0 Axes>"
      ]
     },
     "metadata": {},
     "output_type": "display_data"
    },
    {
     "data": {
      "image/png": "[encoded data removed]",
      "text/plain": [
       "<Figure size 432x288 with 1 Axes>"
      ]
     },
     "metadata": {
      "needs_background": "light"
     },
     "output_type": "display_data"
    }
   ],
   "source": [
    "plt.figure(figsize=(200,100))\n",
    "data.plot.box(y='kids')\n",
    "plt.show()"
   ]
  },
  {
   "cell_type": "markdown",
   "metadata": {},
   "source": [
    "Draw boxplot for Education level"
   ]
  },
  {
   "cell_type": "code",
   "execution_count": 26,
   "metadata": {},
   "outputs": [
    {
     "data": {
      "text/plain": [
       "<Figure size 14400x7200 with 0 Axes>"
      ]
     },
     "metadata": {},
     "output_type": "display_data"
    },
    {
     "data": {
      "image/png": "[encoded data removed]",
      "text/plain": [
       "<Figure size 432x288 with 1 Axes>"
      ]
     },
     "metadata": {
      "needs_background": "light"
     },
     "output_type": "display_data"
    }
   ],
   "source": [
    "plt.figure(figsize=(200,100))\n",
    "data.plot.box(y='educatn')\n",
    "plt.show()"
   ]
  },
  {
   "cell_type": "markdown",
   "metadata": {},
   "source": [
    "Draw boxplot for Education level"
   ]
  },
  {
   "cell_type": "code",
   "execution_count": 27,
   "metadata": {
    "scrolled": true
   },
   "outputs": [
    {
     "data": {
      "text/plain": [
       "<Figure size 14400x7200 with 0 Axes>"
      ]
     },
     "metadata": {},
     "output_type": "display_data"
    },
    {
     "data": {
      "image/png": "[encoded data removed]",
      "text/plain": [
       "<Figure size 432x288 with 1 Axes>"
      ]
     },
     "metadata": {
      "needs_background": "light"
     },
     "output_type": "display_data"
    }
   ],
   "source": [
    "plt.figure(figsize=(200,100))\n",
    "data.plot.box(y='earnings')\n",
    "plt.show()"
   ]
  },
  {
   "cell_type": "markdown",
   "metadata": {},
   "source": [
    "---\n",
    "## <span style=\"color:#0b486b\">Remove Outliers</span>\n",
    "\n",
    "Remove outliers based on boxplot diagrams"
   ]
  },
  {
   "cell_type": "code",
   "execution_count": 28,
   "metadata": {},
   "outputs": [
    {
     "data": {
      "text/plain": [
       "<Figure size 14400x7200 with 0 Axes>"
      ]
     },
     "metadata": {},
     "output_type": "display_data"
    },
    {
     "data": {
      "image/png": "[encoded data removed]",
      "text/plain": [
       "<Figure size 432x288 with 1 Axes>"
      ]
     },
     "metadata": {
      "needs_background": "light"
     },
     "output_type": "display_data"
    }
   ],
   "source": [
    "CleanedData = data[data.kids < 15]\n",
    "CleanedData = CleanedData[CleanedData.educatn < 30]\n",
    "CleanedData = CleanedData[CleanedData.educatn >= 10]\n",
    "plt.figure(figsize=(200,100))\n",
    "CleanedData.plot.box(y='educatn')\n",
    "plt.show()\n",
    "CleanedData.describe()\n",
    "\n",
    "CleanedData.to_csv('CleanedData.csv')"
   ]
  },
  {
   "cell_type": "markdown",
   "metadata": {},
   "source": [
    "---\n",
    "## <span style=\"color:#0b486b\">Correlation </span>\n",
    "\n",
    "Correalation between columns\n",
    "\n",
    "We can see 0.611034 realtionship between worked hours and earnings\n",
    "\n",
    "We can see 0.364995 realtionship between education and earnings\n",
    "\n",
    "We are using these insights on some of our hypothesis\n"
   ]
  },
  {
   "cell_type": "code",
   "execution_count": 29,
   "metadata": {},
   "outputs": [
    {
     "data": {
      "text/html": [
       "<div>\n",
       "<style scoped>\n",
       "    .dataframe tbody tr th:only-of-type {\n",
       "        vertical-align: middle;\n",
       "    }\n",
       "\n",
       "    .dataframe tbody tr th {\n",
       "        vertical-align: top;\n",
       "    }\n",
       "\n",
       "    .dataframe thead th {\n",
       "        text-align: right;\n",
       "    }\n",
       "</style>\n",
       "<table border=\"1\" class=\"dataframe\">\n",
       "  <thead>\n",
       "    <tr style=\"text-align: right;\">\n",
       "      <th></th>\n",
       "      <th>age</th>\n",
       "      <th>educatn</th>\n",
       "      <th>earnings</th>\n",
       "      <th>hours</th>\n",
       "      <th>kids</th>\n",
       "    </tr>\n",
       "  </thead>\n",
       "  <tbody>\n",
       "    <tr>\n",
       "      <th>age</th>\n",
       "      <td>1.000000</td>\n",
       "      <td>0.034053</td>\n",
       "      <td>0.113953</td>\n",
       "      <td>0.080526</td>\n",
       "      <td>0.132700</td>\n",
       "    </tr>\n",
       "    <tr>\n",
       "      <th>educatn</th>\n",
       "      <td>0.034053</td>\n",
       "      <td>1.000000</td>\n",
       "      <td>0.364995</td>\n",
       "      <td>0.114666</td>\n",
       "      <td>-0.218916</td>\n",
       "    </tr>\n",
       "    <tr>\n",
       "      <th>earnings</th>\n",
       "      <td>0.113953</td>\n",
       "      <td>0.364995</td>\n",
       "      <td>1.000000</td>\n",
       "      <td>0.611034</td>\n",
       "      <td>-0.233729</td>\n",
       "    </tr>\n",
       "    <tr>\n",
       "      <th>hours</th>\n",
       "      <td>0.080526</td>\n",
       "      <td>0.114666</td>\n",
       "      <td>0.611034</td>\n",
       "      <td>1.000000</td>\n",
       "      <td>-0.172628</td>\n",
       "    </tr>\n",
       "    <tr>\n",
       "      <th>kids</th>\n",
       "      <td>0.132700</td>\n",
       "      <td>-0.218916</td>\n",
       "      <td>-0.233729</td>\n",
       "      <td>-0.172628</td>\n",
       "      <td>1.000000</td>\n",
       "    </tr>\n",
       "  </tbody>\n",
       "</table>\n",
       "</div>"
      ],
      "text/plain": [
       "               age   educatn  earnings     hours      kids\n",
       "age       1.000000  0.034053  0.113953  0.080526  0.132700\n",
       "educatn   0.034053  1.000000  0.364995  0.114666 -0.218916\n",
       "earnings  0.113953  0.364995  1.000000  0.611034 -0.233729\n",
       "hours     0.080526  0.114666  0.611034  1.000000 -0.172628\n",
       "kids      0.132700 -0.218916 -0.233729 -0.172628  1.000000"
      ]
     },
     "execution_count": 29,
     "metadata": {},
     "output_type": "execute_result"
    }
   ],
   "source": [
    "data = pd.read_csv('CleanedData.csv')\n",
    "data = data.iloc[:,1:-1]\n",
    "del data['Seq No']\n",
    "del data['persnum']\n",
    "del data['intnum']\n",
    "\n",
    "data.corr(method ='pearson') \n"
   ]
  },
  {
   "cell_type": "code",
   "execution_count": 30,
   "metadata": {
    "scrolled": true
   },
   "outputs": [
    {
     "data": {
      "text/plain": [
       "<matplotlib.axes._subplots.AxesSubplot at 0x1f6c6220eb8>"
      ]
     },
     "execution_count": 30,
     "metadata": {},
     "output_type": "execute_result"
    },
    {
     "data": {
      "image/png": "[encoded data removed]",
      "text/plain": [
       "<Figure size 432x288 with 2 Axes>"
      ]
     },
     "metadata": {
      "needs_background": "light"
     },
     "output_type": "display_data"
    }
   ],
   "source": [
    "corr = data.corr()\n",
    "sns.heatmap(corr)"
   ]
  },
  {
   "cell_type": "markdown",
   "metadata": {},
   "source": [
    "---\n",
    "## <span style=\"color:#0b486b\">Hypothesis 1</span>\n",
    "\n",
    "<strong>Eduation has an positive impact on a persons earnings.</strong>\n",
    "\n",
    "If correlation is c\n",
    "\n",
    "<ul>\n",
    "    <li>H0 : c = 0</li>\n",
    "    <li>Ha : c > 0</li>\n",
    "</ul>\n",
    "\n",
    "\n",
    "\n",
    "from above correlation table, c between education and earnings is 0.364995 (c > 0)\n",
    "\n",
    "therefore, <strong>statistics support for alternative hypothesis with suffiecnt statistical significance.</strong>\n",
    "\n",
    "but, Using other means to confirm it (p value and scatter plot)\n",
    "\n",
    "\n",
    "Let's see the scatter plot for above relationship\n"
   ]
  },
  {
   "cell_type": "code",
   "execution_count": 31,
   "metadata": {},
   "outputs": [
    {
     "data": {
      "text/plain": [
       "<Figure size 14400x7200 with 0 Axes>"
      ]
     },
     "metadata": {},
     "output_type": "display_data"
    },
    {
     "data": {
      "image/png": "[encoded data removed]",
      "text/plain": [
       "<Figure size 432x288 with 1 Axes>"
      ]
     },
     "metadata": {
      "needs_background": "light"
     },
     "output_type": "display_data"
    }
   ],
   "source": [
    "data = pd.read_csv('CleanedData.csv')\n",
    "data.corr(method ='pearson') \n",
    "plt.figure(figsize=(200,100))\n",
    "data.plot.scatter(x='educatn', y='earnings')\n",
    "plt.show()"
   ]
  },
  {
   "cell_type": "markdown",
   "metadata": {},
   "source": [
    "Since we cannot get a clear idea from above chart, trying caluclations from pearsonr correaltion\n",
    "\n",
    "<Strong>P Value</Strong>\n",
    "\n",
    "We will select a significance level (99%) (α = 0.01),"
   ]
  },
  {
   "cell_type": "code",
   "execution_count": 32,
   "metadata": {},
   "outputs": [
    {
     "name": "stdout",
     "output_type": "stream",
     "text": [
      "correaltion= 0.37 ,  p value= 0.0\n"
     ]
    }
   ],
   "source": [
    "from scipy.stats import pearsonr\n",
    "\n",
    "educationArray = []\n",
    "earningArray = []\n",
    "\n",
    "\n",
    "for index, row in data.iterrows():\n",
    "    if(row['hours']>0):\n",
    "        educationArray.append(row['educatn'])\n",
    "        earningArray.append(row['earnings'])\n",
    "    \n",
    "#print(educationArray)\n",
    "#print(earningArray)\n",
    "    \n",
    "corr, p_value = pearsonr(educationArray, earningArray)\n",
    "print('correaltion=', round(corr, 2), ',  p value=', round(p_value, 2))"
   ]
  },
  {
   "cell_type": "markdown",
   "metadata": {},
   "source": [
    "P value is less than α, (0 < 0.01), Therefore, null hypothesis is rejected.\n",
    "\n",
    "Conclusion: There is sufficient evidence to conclude there is a significant linear relationship between <strong>Eduation</strong> and <strong>Earnings</strong>"
   ]
  },
  {
   "cell_type": "markdown",
   "metadata": {},
   "source": [
    "---\n",
    "## <span style=\"color:#0b486b\">Hypothesis 2</span>\n",
    "\n",
    "<strong>Married people earn more than others</strong>\n",
    "\n",
    "M1 : mean of earning of married people\n",
    "M2 : mean of earning of unmarried people\n",
    "\n",
    "\n",
    "H0 : M1 = M2\n",
    "\n",
    "Ha : M1 > M2\n",
    "\n"
   ]
  },
  {
   "cell_type": "code",
   "execution_count": 45,
   "metadata": {
    "scrolled": true
   },
   "outputs": [],
   "source": [
    "###function to convert categorical data to numerical value\n",
    "def marritialStatus_to_numeric(x):\n",
    "    if x=='married':\n",
    "        return 1\n",
    "    else:\n",
    "        return 0\n",
    "\n",
    "###append new colomn IsMarried; a numerical representation of categorical value\n",
    "data['IsMarried'] = data['married'].apply(marritialStatus_to_numeric)\n",
    "\n",
    "marriedPeople = data[data.IsMarried == 1]\n",
    "UnMarriedPeople = data[data.IsMarried== 0]\n",
    "\n",
    "#unmarriedData = data[data.married!='married'].head(n=100)\n"
   ]
  },
  {
   "cell_type": "markdown",
   "metadata": {},
   "source": [
    "See Married people data "
   ]
  },
  {
   "cell_type": "code",
   "execution_count": 46,
   "metadata": {
    "scrolled": true
   },
   "outputs": [
    {
     "data": {
      "text/html": [
       "<div>\n",
       "<style scoped>\n",
       "    .dataframe tbody tr th:only-of-type {\n",
       "        vertical-align: middle;\n",
       "    }\n",
       "\n",
       "    .dataframe tbody tr th {\n",
       "        vertical-align: top;\n",
       "    }\n",
       "\n",
       "    .dataframe thead th {\n",
       "        text-align: right;\n",
       "    }\n",
       "</style>\n",
       "<table border=\"1\" class=\"dataframe\">\n",
       "  <thead>\n",
       "    <tr style=\"text-align: right;\">\n",
       "      <th></th>\n",
       "      <th>Unnamed: 0</th>\n",
       "      <th>Seq No</th>\n",
       "      <th>intnum</th>\n",
       "      <th>persnum</th>\n",
       "      <th>age</th>\n",
       "      <th>educatn</th>\n",
       "      <th>earnings</th>\n",
       "      <th>hours</th>\n",
       "      <th>kids</th>\n",
       "      <th>IsMarried</th>\n",
       "    </tr>\n",
       "  </thead>\n",
       "  <tbody>\n",
       "    <tr>\n",
       "      <th>count</th>\n",
       "      <td>2668.000000</td>\n",
       "      <td>2668.000000</td>\n",
       "      <td>2668.000000</td>\n",
       "      <td>2668.000000</td>\n",
       "      <td>2668.000000</td>\n",
       "      <td>2668.000000</td>\n",
       "      <td>2668.000000</td>\n",
       "      <td>2668.000000</td>\n",
       "      <td>2668.000000</td>\n",
       "      <td>2668.0</td>\n",
       "    </tr>\n",
       "    <tr>\n",
       "      <th>mean</th>\n",
       "      <td>2087.943778</td>\n",
       "      <td>2088.943778</td>\n",
       "      <td>3909.615442</td>\n",
       "      <td>73.701274</td>\n",
       "      <td>38.411919</td>\n",
       "      <td>13.342204</td>\n",
       "      <td>16186.235007</td>\n",
       "      <td>1319.390555</td>\n",
       "      <td>2.136807</td>\n",
       "      <td>1.0</td>\n",
       "    </tr>\n",
       "    <tr>\n",
       "      <th>std</th>\n",
       "      <td>1364.414841</td>\n",
       "      <td>1364.414841</td>\n",
       "      <td>2720.817856</td>\n",
       "      <td>83.287961</td>\n",
       "      <td>5.480794</td>\n",
       "      <td>1.889184</td>\n",
       "      <td>16870.971856</td>\n",
       "      <td>885.305261</td>\n",
       "      <td>1.261329</td>\n",
       "      <td>0.0</td>\n",
       "    </tr>\n",
       "    <tr>\n",
       "      <th>min</th>\n",
       "      <td>0.000000</td>\n",
       "      <td>1.000000</td>\n",
       "      <td>4.000000</td>\n",
       "      <td>1.000000</td>\n",
       "      <td>30.000000</td>\n",
       "      <td>10.000000</td>\n",
       "      <td>0.000000</td>\n",
       "      <td>0.000000</td>\n",
       "      <td>0.000000</td>\n",
       "      <td>1.0</td>\n",
       "    </tr>\n",
       "    <tr>\n",
       "      <th>25%</th>\n",
       "      <td>929.750000</td>\n",
       "      <td>930.750000</td>\n",
       "      <td>1494.000000</td>\n",
       "      <td>3.000000</td>\n",
       "      <td>34.000000</td>\n",
       "      <td>12.000000</td>\n",
       "      <td>2300.000000</td>\n",
       "      <td>381.250000</td>\n",
       "      <td>1.000000</td>\n",
       "      <td>1.0</td>\n",
       "    </tr>\n",
       "    <tr>\n",
       "      <th>50%</th>\n",
       "      <td>1868.500000</td>\n",
       "      <td>1869.500000</td>\n",
       "      <td>2753.000000</td>\n",
       "      <td>5.000000</td>\n",
       "      <td>38.000000</td>\n",
       "      <td>12.000000</td>\n",
       "      <td>13000.000000</td>\n",
       "      <td>1603.000000</td>\n",
       "      <td>2.000000</td>\n",
       "      <td>1.0</td>\n",
       "    </tr>\n",
       "    <tr>\n",
       "      <th>75%</th>\n",
       "      <td>3204.500000</td>\n",
       "      <td>3205.500000</td>\n",
       "      <td>6187.000000</td>\n",
       "      <td>171.000000</td>\n",
       "      <td>43.000000</td>\n",
       "      <td>15.000000</td>\n",
       "      <td>25000.000000</td>\n",
       "      <td>2000.000000</td>\n",
       "      <td>3.000000</td>\n",
       "      <td>1.0</td>\n",
       "    </tr>\n",
       "    <tr>\n",
       "      <th>max</th>\n",
       "      <td>4855.000000</td>\n",
       "      <td>4856.000000</td>\n",
       "      <td>9306.000000</td>\n",
       "      <td>200.000000</td>\n",
       "      <td>50.000000</td>\n",
       "      <td>17.000000</td>\n",
       "      <td>240000.000000</td>\n",
       "      <td>4233.000000</td>\n",
       "      <td>10.000000</td>\n",
       "      <td>1.0</td>\n",
       "    </tr>\n",
       "  </tbody>\n",
       "</table>\n",
       "</div>"
      ],
      "text/plain": [
       "        Unnamed: 0       Seq No       intnum      persnum          age  \\\n",
       "count  2668.000000  2668.000000  2668.000000  2668.000000  2668.000000   \n",
       "mean   2087.943778  2088.943778  3909.615442    73.701274    38.411919   \n",
       "std    1364.414841  1364.414841  2720.817856    83.287961     5.480794   \n",
       "min       0.000000     1.000000     4.000000     1.000000    30.000000   \n",
       "25%     929.750000   930.750000  1494.000000     3.000000    34.000000   \n",
       "50%    1868.500000  1869.500000  2753.000000     5.000000    38.000000   \n",
       "75%    3204.500000  3205.500000  6187.000000   171.000000    43.000000   \n",
       "max    4855.000000  4856.000000  9306.000000   200.000000    50.000000   \n",
       "\n",
       "           educatn       earnings        hours         kids  IsMarried  \n",
       "count  2668.000000    2668.000000  2668.000000  2668.000000     2668.0  \n",
       "mean     13.342204   16186.235007  1319.390555     2.136807        1.0  \n",
       "std       1.889184   16870.971856   885.305261     1.261329        0.0  \n",
       "min      10.000000       0.000000     0.000000     0.000000        1.0  \n",
       "25%      12.000000    2300.000000   381.250000     1.000000        1.0  \n",
       "50%      12.000000   13000.000000  1603.000000     2.000000        1.0  \n",
       "75%      15.000000   25000.000000  2000.000000     3.000000        1.0  \n",
       "max      17.000000  240000.000000  4233.000000    10.000000        1.0  "
      ]
     },
     "execution_count": 46,
     "metadata": {},
     "output_type": "execute_result"
    }
   ],
   "source": [
    "marriedPeople.describe()"
   ]
  },
  {
   "cell_type": "markdown",
   "metadata": {},
   "source": [
    "See UnMarried people data "
   ]
  },
  {
   "cell_type": "code",
   "execution_count": 47,
   "metadata": {},
   "outputs": [
    {
     "data": {
      "text/html": [
       "<div>\n",
       "<style scoped>\n",
       "    .dataframe tbody tr th:only-of-type {\n",
       "        vertical-align: middle;\n",
       "    }\n",
       "\n",
       "    .dataframe tbody tr th {\n",
       "        vertical-align: top;\n",
       "    }\n",
       "\n",
       "    .dataframe thead th {\n",
       "        text-align: right;\n",
       "    }\n",
       "</style>\n",
       "<table border=\"1\" class=\"dataframe\">\n",
       "  <thead>\n",
       "    <tr style=\"text-align: right;\">\n",
       "      <th></th>\n",
       "      <th>Unnamed: 0</th>\n",
       "      <th>Seq No</th>\n",
       "      <th>intnum</th>\n",
       "      <th>persnum</th>\n",
       "      <th>age</th>\n",
       "      <th>educatn</th>\n",
       "      <th>earnings</th>\n",
       "      <th>hours</th>\n",
       "      <th>kids</th>\n",
       "      <th>IsMarried</th>\n",
       "    </tr>\n",
       "  </thead>\n",
       "  <tbody>\n",
       "    <tr>\n",
       "      <th>count</th>\n",
       "      <td>1392.000000</td>\n",
       "      <td>1392.000000</td>\n",
       "      <td>1392.000000</td>\n",
       "      <td>1392.000000</td>\n",
       "      <td>1392.000000</td>\n",
       "      <td>1392.000000</td>\n",
       "      <td>1392.000000</td>\n",
       "      <td>1392.000000</td>\n",
       "      <td>1392.000000</td>\n",
       "      <td>1392.0</td>\n",
       "    </tr>\n",
       "    <tr>\n",
       "      <th>mean</th>\n",
       "      <td>2574.948994</td>\n",
       "      <td>2575.948994</td>\n",
       "      <td>4963.562500</td>\n",
       "      <td>34.600575</td>\n",
       "      <td>38.079023</td>\n",
       "      <td>12.864943</td>\n",
       "      <td>14664.219828</td>\n",
       "      <td>1321.415948</td>\n",
       "      <td>1.887213</td>\n",
       "      <td>0.0</td>\n",
       "    </tr>\n",
       "    <tr>\n",
       "      <th>std</th>\n",
       "      <td>1251.638815</td>\n",
       "      <td>1251.638815</td>\n",
       "      <td>2447.423907</td>\n",
       "      <td>65.574911</td>\n",
       "      <td>5.496441</td>\n",
       "      <td>1.810706</td>\n",
       "      <td>15463.541270</td>\n",
       "      <td>977.947905</td>\n",
       "      <td>1.488343</td>\n",
       "      <td>0.0</td>\n",
       "    </tr>\n",
       "    <tr>\n",
       "      <th>min</th>\n",
       "      <td>1.000000</td>\n",
       "      <td>2.000000</td>\n",
       "      <td>4.000000</td>\n",
       "      <td>1.000000</td>\n",
       "      <td>30.000000</td>\n",
       "      <td>10.000000</td>\n",
       "      <td>0.000000</td>\n",
       "      <td>0.000000</td>\n",
       "      <td>0.000000</td>\n",
       "      <td>0.0</td>\n",
       "    </tr>\n",
       "    <tr>\n",
       "      <th>25%</th>\n",
       "      <td>1695.000000</td>\n",
       "      <td>1696.000000</td>\n",
       "      <td>2538.250000</td>\n",
       "      <td>2.000000</td>\n",
       "      <td>33.000000</td>\n",
       "      <td>12.000000</td>\n",
       "      <td>606.000000</td>\n",
       "      <td>135.000000</td>\n",
       "      <td>1.000000</td>\n",
       "      <td>0.0</td>\n",
       "    </tr>\n",
       "    <tr>\n",
       "      <th>50%</th>\n",
       "      <td>2694.500000</td>\n",
       "      <td>2695.500000</td>\n",
       "      <td>5693.000000</td>\n",
       "      <td>4.000000</td>\n",
       "      <td>38.000000</td>\n",
       "      <td>12.000000</td>\n",
       "      <td>12000.000000</td>\n",
       "      <td>1655.500000</td>\n",
       "      <td>2.000000</td>\n",
       "      <td>0.0</td>\n",
       "    </tr>\n",
       "    <tr>\n",
       "      <th>75%</th>\n",
       "      <td>3571.750000</td>\n",
       "      <td>3572.750000</td>\n",
       "      <td>6584.500000</td>\n",
       "      <td>7.000000</td>\n",
       "      <td>42.000000</td>\n",
       "      <td>14.000000</td>\n",
       "      <td>23000.000000</td>\n",
       "      <td>2040.000000</td>\n",
       "      <td>3.000000</td>\n",
       "      <td>0.0</td>\n",
       "    </tr>\n",
       "    <tr>\n",
       "      <th>max</th>\n",
       "      <td>4849.000000</td>\n",
       "      <td>4850.000000</td>\n",
       "      <td>9293.000000</td>\n",
       "      <td>195.000000</td>\n",
       "      <td>50.000000</td>\n",
       "      <td>17.000000</td>\n",
       "      <td>140000.000000</td>\n",
       "      <td>5025.000000</td>\n",
       "      <td>9.000000</td>\n",
       "      <td>0.0</td>\n",
       "    </tr>\n",
       "  </tbody>\n",
       "</table>\n",
       "</div>"
      ],
      "text/plain": [
       "        Unnamed: 0       Seq No       intnum      persnum          age  \\\n",
       "count  1392.000000  1392.000000  1392.000000  1392.000000  1392.000000   \n",
       "mean   2574.948994  2575.948994  4963.562500    34.600575    38.079023   \n",
       "std    1251.638815  1251.638815  2447.423907    65.574911     5.496441   \n",
       "min       1.000000     2.000000     4.000000     1.000000    30.000000   \n",
       "25%    1695.000000  1696.000000  2538.250000     2.000000    33.000000   \n",
       "50%    2694.500000  2695.500000  5693.000000     4.000000    38.000000   \n",
       "75%    3571.750000  3572.750000  6584.500000     7.000000    42.000000   \n",
       "max    4849.000000  4850.000000  9293.000000   195.000000    50.000000   \n",
       "\n",
       "           educatn       earnings        hours         kids  IsMarried  \n",
       "count  1392.000000    1392.000000  1392.000000  1392.000000     1392.0  \n",
       "mean     12.864943   14664.219828  1321.415948     1.887213        0.0  \n",
       "std       1.810706   15463.541270   977.947905     1.488343        0.0  \n",
       "min      10.000000       0.000000     0.000000     0.000000        0.0  \n",
       "25%      12.000000     606.000000   135.000000     1.000000        0.0  \n",
       "50%      12.000000   12000.000000  1655.500000     2.000000        0.0  \n",
       "75%      14.000000   23000.000000  2040.000000     3.000000        0.0  \n",
       "max      17.000000  140000.000000  5025.000000     9.000000        0.0  "
      ]
     },
     "execution_count": 47,
     "metadata": {},
     "output_type": "execute_result"
    }
   ],
   "source": [
    "UnMarriedPeople.describe()"
   ]
  },
  {
   "cell_type": "code",
   "execution_count": 48,
   "metadata": {},
   "outputs": [
    {
     "data": {
      "text/html": [
       "<div>\n",
       "<style scoped>\n",
       "    .dataframe tbody tr th:only-of-type {\n",
       "        vertical-align: middle;\n",
       "    }\n",
       "\n",
       "    .dataframe tbody tr th {\n",
       "        vertical-align: top;\n",
       "    }\n",
       "\n",
       "    .dataframe thead th {\n",
       "        text-align: right;\n",
       "    }\n",
       "</style>\n",
       "<table border=\"1\" class=\"dataframe\">\n",
       "  <thead>\n",
       "    <tr style=\"text-align: right;\">\n",
       "      <th></th>\n",
       "      <th>Unnamed: 0</th>\n",
       "      <th>Seq No</th>\n",
       "      <th>intnum</th>\n",
       "      <th>persnum</th>\n",
       "      <th>age</th>\n",
       "      <th>educatn</th>\n",
       "      <th>earnings</th>\n",
       "      <th>hours</th>\n",
       "      <th>kids</th>\n",
       "      <th>IsMarried</th>\n",
       "    </tr>\n",
       "  </thead>\n",
       "  <tbody>\n",
       "    <tr>\n",
       "      <th>Unnamed: 0</th>\n",
       "      <td>1.000000</td>\n",
       "      <td>1.000000</td>\n",
       "      <td>0.982993</td>\n",
       "      <td>-0.247615</td>\n",
       "      <td>-0.044440</td>\n",
       "      <td>-0.191249</td>\n",
       "      <td>-0.136180</td>\n",
       "      <td>-0.068794</td>\n",
       "      <td>0.086735</td>\n",
       "      <td>-0.171677</td>\n",
       "    </tr>\n",
       "    <tr>\n",
       "      <th>Seq No</th>\n",
       "      <td>1.000000</td>\n",
       "      <td>1.000000</td>\n",
       "      <td>0.982993</td>\n",
       "      <td>-0.247615</td>\n",
       "      <td>-0.044440</td>\n",
       "      <td>-0.191249</td>\n",
       "      <td>-0.136180</td>\n",
       "      <td>-0.068794</td>\n",
       "      <td>0.086735</td>\n",
       "      <td>-0.171677</td>\n",
       "    </tr>\n",
       "    <tr>\n",
       "      <th>intnum</th>\n",
       "      <td>0.982993</td>\n",
       "      <td>0.982993</td>\n",
       "      <td>1.000000</td>\n",
       "      <td>-0.245670</td>\n",
       "      <td>-0.056530</td>\n",
       "      <td>-0.203563</td>\n",
       "      <td>-0.139795</td>\n",
       "      <td>-0.069258</td>\n",
       "      <td>0.091350</td>\n",
       "      <td>-0.186890</td>\n",
       "    </tr>\n",
       "    <tr>\n",
       "      <th>persnum</th>\n",
       "      <td>-0.247615</td>\n",
       "      <td>-0.247615</td>\n",
       "      <td>-0.245670</td>\n",
       "      <td>1.000000</td>\n",
       "      <td>-0.073616</td>\n",
       "      <td>0.100913</td>\n",
       "      <td>0.033118</td>\n",
       "      <td>0.020164</td>\n",
       "      <td>-0.040637</td>\n",
       "      <td>0.232459</td>\n",
       "    </tr>\n",
       "    <tr>\n",
       "      <th>age</th>\n",
       "      <td>-0.044440</td>\n",
       "      <td>-0.044440</td>\n",
       "      <td>-0.056530</td>\n",
       "      <td>-0.073616</td>\n",
       "      <td>1.000000</td>\n",
       "      <td>0.034053</td>\n",
       "      <td>0.113953</td>\n",
       "      <td>0.080526</td>\n",
       "      <td>0.132700</td>\n",
       "      <td>0.028797</td>\n",
       "    </tr>\n",
       "    <tr>\n",
       "      <th>educatn</th>\n",
       "      <td>-0.191249</td>\n",
       "      <td>-0.191249</td>\n",
       "      <td>-0.203563</td>\n",
       "      <td>0.100913</td>\n",
       "      <td>0.034053</td>\n",
       "      <td>1.000000</td>\n",
       "      <td>0.364995</td>\n",
       "      <td>0.114666</td>\n",
       "      <td>-0.218916</td>\n",
       "      <td>0.120761</td>\n",
       "    </tr>\n",
       "    <tr>\n",
       "      <th>earnings</th>\n",
       "      <td>-0.136180</td>\n",
       "      <td>-0.136180</td>\n",
       "      <td>-0.139795</td>\n",
       "      <td>0.033118</td>\n",
       "      <td>0.113953</td>\n",
       "      <td>0.364995</td>\n",
       "      <td>1.000000</td>\n",
       "      <td>0.611034</td>\n",
       "      <td>-0.233729</td>\n",
       "      <td>0.044014</td>\n",
       "    </tr>\n",
       "    <tr>\n",
       "      <th>hours</th>\n",
       "      <td>-0.068794</td>\n",
       "      <td>-0.068794</td>\n",
       "      <td>-0.069258</td>\n",
       "      <td>0.020164</td>\n",
       "      <td>0.080526</td>\n",
       "      <td>0.114666</td>\n",
       "      <td>0.611034</td>\n",
       "      <td>1.000000</td>\n",
       "      <td>-0.172628</td>\n",
       "      <td>-0.001047</td>\n",
       "    </tr>\n",
       "    <tr>\n",
       "      <th>kids</th>\n",
       "      <td>0.086735</td>\n",
       "      <td>0.086735</td>\n",
       "      <td>0.091350</td>\n",
       "      <td>-0.040637</td>\n",
       "      <td>0.132700</td>\n",
       "      <td>-0.218916</td>\n",
       "      <td>-0.233729</td>\n",
       "      <td>-0.172628</td>\n",
       "      <td>1.000000</td>\n",
       "      <td>0.087865</td>\n",
       "    </tr>\n",
       "    <tr>\n",
       "      <th>IsMarried</th>\n",
       "      <td>-0.171677</td>\n",
       "      <td>-0.171677</td>\n",
       "      <td>-0.186890</td>\n",
       "      <td>0.232459</td>\n",
       "      <td>0.028797</td>\n",
       "      <td>0.120761</td>\n",
       "      <td>0.044014</td>\n",
       "      <td>-0.001047</td>\n",
       "      <td>0.087865</td>\n",
       "      <td>1.000000</td>\n",
       "    </tr>\n",
       "  </tbody>\n",
       "</table>\n",
       "</div>"
      ],
      "text/plain": [
       "            Unnamed: 0    Seq No    intnum   persnum       age   educatn  \\\n",
       "Unnamed: 0    1.000000  1.000000  0.982993 -0.247615 -0.044440 -0.191249   \n",
       "Seq No        1.000000  1.000000  0.982993 -0.247615 -0.044440 -0.191249   \n",
       "intnum        0.982993  0.982993  1.000000 -0.245670 -0.056530 -0.203563   \n",
       "persnum      -0.247615 -0.247615 -0.245670  1.000000 -0.073616  0.100913   \n",
       "age          -0.044440 -0.044440 -0.056530 -0.073616  1.000000  0.034053   \n",
       "educatn      -0.191249 -0.191249 -0.203563  0.100913  0.034053  1.000000   \n",
       "earnings     -0.136180 -0.136180 -0.139795  0.033118  0.113953  0.364995   \n",
       "hours        -0.068794 -0.068794 -0.069258  0.020164  0.080526  0.114666   \n",
       "kids          0.086735  0.086735  0.091350 -0.040637  0.132700 -0.218916   \n",
       "IsMarried    -0.171677 -0.171677 -0.186890  0.232459  0.028797  0.120761   \n",
       "\n",
       "            earnings     hours      kids  IsMarried  \n",
       "Unnamed: 0 -0.136180 -0.068794  0.086735  -0.171677  \n",
       "Seq No     -0.136180 -0.068794  0.086735  -0.171677  \n",
       "intnum     -0.139795 -0.069258  0.091350  -0.186890  \n",
       "persnum     0.033118  0.020164 -0.040637   0.232459  \n",
       "age         0.113953  0.080526  0.132700   0.028797  \n",
       "educatn     0.364995  0.114666 -0.218916   0.120761  \n",
       "earnings    1.000000  0.611034 -0.233729   0.044014  \n",
       "hours       0.611034  1.000000 -0.172628  -0.001047  \n",
       "kids       -0.233729 -0.172628  1.000000   0.087865  \n",
       "IsMarried   0.044014 -0.001047  0.087865   1.000000  "
      ]
     },
     "execution_count": 48,
     "metadata": {},
     "output_type": "execute_result"
    }
   ],
   "source": [
    "#see the corelation\n",
    "data.corr(method ='pearson') \n"
   ]
  },
  {
   "cell_type": "markdown",
   "metadata": {},
   "source": [
    "From the corelation diagram we cant see a significant relationship between maritial status and earnings. Corelation efficient is 0.044 betwween the marritial status and earnings. which we can consider as 0. \n",
    "\n",
    "\n",
    "However M1 = 16186.235007\t\n",
    "        M2 = 14664.219828\t\n",
    "\n",
    "Which implies M1 < M2. \n",
    "\n",
    "In conclusion we can say that Married people earn more than unmarried people.\n",
    "\n"
   ]
  },
  {
   "cell_type": "code",
   "execution_count": null,
   "metadata": {},
   "outputs": [],
   "source": []
  }
 ],
 "metadata": {
  "kernelspec": {
   "display_name": "Python 3",
   "language": "python",
   "name": "python3"
  },
  "language_info": {
   "codemirror_mode": {
    "name": "ipython",
    "version": 3
   },
   "file_extension": ".py",
   "mimetype": "text/x-python",
   "name": "python",
   "nbconvert_exporter": "python",
   "pygments_lexer": "ipython3",
   "version": "3.7.1"
  }
 },
 "nbformat": 4,
 "nbformat_minor": 1
}
